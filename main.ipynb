{
 "cells": [
  {
   "cell_type": "code",
   "execution_count": 11,
   "metadata": {},
   "outputs": [],
   "source": [
    "import os\n",
    "import pandas as pd\n",
    "from dotenv import load_dotenv\n",
    "from langchain import LLMChain, PromptTemplate\n",
    "\n",
    "from langchain_openai import ChatOpenAI"
   ]
  },
  {
   "cell_type": "code",
   "execution_count": 3,
   "metadata": {},
   "outputs": [],
   "source": [
    "load_dotenv()\n",
    "assert os.getenv(\"OPENAI_API_KEY\"), \"Defina OPENAI_API_KEY em .env\""
   ]
  },
  {
   "cell_type": "code",
   "execution_count": 5,
   "metadata": {},
   "outputs": [
    {
     "name": "stdout",
     "output_type": "stream",
     "text": [
      "Linhas carregadas: 1000\n"
     ]
    }
   ],
   "source": [
    "PATH = \"cleaned_list.xlsx\"  # ou \"cleaned_list.xlsx\" se estiver na mesma pasta\n",
    "df = pd.read_excel(PATH, dtype=str)\n",
    "\n",
    "# Limitando aos 30 primeiros itens\n",
    "df = df.head(30)\n",
    "print(f\"Linhas carregadas: {len(df)}\")\n",
    "print(\"Limitado aos 30 primeiros itens\")"
   ]
  },
  {
   "cell_type": "code",
   "execution_count": 7,
   "metadata": {},
   "outputs": [],
   "source": [
    "prompt = PromptTemplate(\n",
    "    input_variables=[\"descricao\"],\n",
    "    template=(\n",
    "        \"Dado o nome de um produto, responda com o NOME DA MARCA associada.\\n\"\n",
    "        \"Se não houver marca, responda exatamente: Nenhuma.\\n\\n\"\n",
    "        \"Exemplos:\\n\"\n",
    "        \"- Neutrogena Sun Fresh FPS 70 200 ML → Neutrogena\\n\"\n",
    "        \"- Nescau Achocolatado em pó 400g → Nescau\\n\"\n",
    "        \"- Papel A4 200x300 UND → Nenhuma\\n\\n\"\n",
    "        \"Produto: {descricao}\\n\"\n",
    "        \"Marca:\"\n",
    "    ),\n",
    ")"
   ]
  },
  {
   "cell_type": "code",
   "execution_count": 12,
   "metadata": {},
   "outputs": [],
   "source": [
    "llm = ChatOpenAI(model=\"gpt-4\", temperature=0)\n",
    "chain = LLMChain(llm=llm, prompt=prompt)"
   ]
  },
  {
   "cell_type": "code",
   "execution_count": 13,
   "metadata": {},
   "outputs": [],
   "source": [
    "def classify_brands(df: pd.DataFrame, desc_col: str) -> pd.Series:\n",
    "    \"\"\"\n",
    "    Para cada descrição em df[desc_col], executa o LLMChain e retorna uma Series de marcas.\n",
    "    \"\"\"\n",
    "    marcas = []\n",
    "    for i, txt in enumerate(df[desc_col].fillna(\"\").astype(str)):\n",
    "        if not txt.strip():\n",
    "            marcas.append(\"Nenhuma\")\n",
    "        else:\n",
    "            resp = chain.run(descricao=txt).strip()\n",
    "            marcas.append(resp)\n",
    "        if (i + 1) % 100 == 0:\n",
    "            print(f\"Processados {i+1}/{len(df)}\")\n",
    "    return pd.Series(marcas, index=df.index)"
   ]
  },
  {
   "cell_type": "code",
   "execution_count": 21,
   "metadata": {},
   "outputs": [
    {
     "name": "stdout",
     "output_type": "stream",
     "text": [
      "Encontrados 6 produtos com marca.\n",
      "Total de marcas únicas encontradas: 2\n",
      "Marcas encontradas:\n",
      "- Nenhuma.\n",
      "- Neutrogena\n",
      "\n",
      "DataFrame salvo como 'produtos_com_marcas.csv'\n",
      "\n",
      "Resumo:\n",
      "Total de produtos: 10\n",
      "Produtos com marca identificada: 6\n",
      "Produtos sem marca: 4\n",
      "Marcas únicas: 2\n",
      "\n",
      "Primeiras 5 linhas do DataFrame com a coluna Marca:\n",
      "                           Produto/Serviço       Marca\n",
      "0             NEVRALGEX DIP 1 G C/ 10 COMP     Nenhuma\n",
      "1                NEVRIX 5000 MCG 3 AMPOLAS    Nenhuma.\n",
      "2       NEUTROGENA SUN FRESH FPS 90 200 ML  Neutrogena\n",
      "3  NEUTROGENA NORWEGIAN HIDRAT CORP 200 ML  Neutrogena\n",
      "4       NEUTROGENA SUN FRESH FPS 70 200 ML  Neutrogena\n"
     ]
    }
   ],
   "source": [
    "COL_DESC = \"Produto/Serviço\"\n",
    "df = df.head(300).copy()\n",
    "df[\"Marca\"] = classify_brands(df, COL_DESC)\n",
    "df_com_marca = df[df[\"Marca\"].str.lower() != \"nenhuma\"]\n",
    "print(f\"Encontrados {len(df_com_marca)} produtos com marca.\")\n",
    "\n",
    "# Extrair lista de todas as marcas únicas (excluindo \"nenhuma\")\n",
    "lista_marcas = df_com_marca[\"Marca\"].unique().tolist()\n",
    "print(f\"Total de marcas únicas encontradas: {len(lista_marcas)}\")\n",
    "print(\"Marcas encontradas:\")\n",
    "for marca in sorted(lista_marcas):\n",
    "    print(f\"- {marca}\")\n",
    "\n",
    "# Salvar o DataFrame com a nova coluna \"Marca\"\n",
    "# Opção 1: Salvar como CSV\n",
    "df.to_csv(\"produtos_com_marcas.csv\", index=False, encoding=\"utf-8\")\n",
    "print(\"\\nDataFrame salvo como 'produtos_com_marcas.csv'\")\n",
    "\n",
    "# Opção 2: Salvar como Excel (descomente se preferir)\n",
    "# df.to_excel(\"produtos_com_marcas.xlsx\", index=False)\n",
    "# print(\"DataFrame salvo como 'produtos_com_marcas.xlsx'\")\n",
    "\n",
    "# Opção 3: Salvar como Parquet (mais eficiente para grandes datasets)\n",
    "# df.to_parquet(\"produtos_com_marcas.parquet\", index=False)\n",
    "# print(\"DataFrame salvo como 'produtos_com_marcas.parquet'\")\n",
    "\n",
    "# Mostrar algumas estatísticas\n",
    "print(f\"\\nResumo:\")\n",
    "print(f\"Total de produtos: {len(df)}\")\n",
    "print(f\"Produtos com marca identificada: {len(df_com_marca)}\")\n",
    "print(f\"Produtos sem marca: {len(df) - len(df_com_marca)}\")\n",
    "print(f\"Marcas únicas: {len(lista_marcas)}\")\n",
    "\n",
    "# Visualizar as primeiras linhas do DataFrame com a nova coluna\n",
    "print(f\"\\nPrimeiras 5 linhas do DataFrame com a coluna Marca:\")\n",
    "print(df[[\"Produto/Serviço\", \"Marca\"]].head())"
   ]
  }
 ],
 "metadata": {
  "kernelspec": {
   "display_name": ".venv",
   "language": "python",
   "name": "python3"
  },
  "language_info": {
   "codemirror_mode": {
    "name": "ipython",
    "version": 3
   },
   "file_extension": ".py",
   "mimetype": "text/x-python",
   "name": "python",
   "nbconvert_exporter": "python",
   "pygments_lexer": "ipython3",
   "version": "3.13.3"
  }
 },
 "nbformat": 4,
 "nbformat_minor": 2
}
